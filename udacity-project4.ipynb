{
 "cells": [
  {
   "cell_type": "code",
   "execution_count": 1,
   "metadata": {
    "gather": {
     "logged": 1598275788035
    }
   },
   "outputs": [
    {
     "name": "stdout",
     "output_type": "stream",
     "text": [
      "Workspace name: quick-starts-ws-274542\n",
      "Azure region: eastus2\n",
      "Subscription id: d4ad7261-832d-46b2-b093-22156001df5b\n",
      "Resource group: aml-quickstarts-274542\n"
     ]
    }
   ],
   "source": [
    "from azureml.core import Workspace, Experiment\n",
    "\n",
    "ws = Workspace.from_config()\n",
    "exp = Experiment(workspace=ws, name=\"udacity-project\")\n",
    "\n",
    "print('Workspace name: ' + ws.name, \n",
    "      'Azure region: ' + ws.location, \n",
    "      'Subscription id: ' + ws.subscription_id, \n",
    "      'Resource group: ' + ws.resource_group, sep = '\\n')\n",
    "\n",
    "run = exp.start_logging()"
   ]
  },
  {
   "cell_type": "code",
   "execution_count": 2,
   "metadata": {
    "collapsed": false,
    "gather": {
     "logged": 1598275788675
    },
    "jupyter": {
     "outputs_hidden": false,
     "source_hidden": false
    },
    "nteract": {
     "transient": {
      "deleting": false
     }
    }
   },
   "outputs": [],
   "source": [
    "from azureml.core.compute import ComputeTarget, AmlCompute\n",
    "\n",
    "cluster_name = \"optmizing-ml\"\n",
    "# TODO: Create compute cluster\n",
    "# Use vm_size = \"Standard_D2_V2\" in your provisioning configuration.\n",
    "# max_nodes should be no greater than 4.\n",
    "### YOUR CODE HERE ###\n",
    "compute_config = AmlCompute.provisioning_configuration(\n",
    "    vm_size=\"Standard_D2_V2\",\n",
    "    max_nodes=4\n",
    ")\n",
    "\n",
    "compute_target = ComputeTarget(workspace=ws,name= cluster_name)"
   ]
  },
  {
   "cell_type": "code",
   "execution_count": 3,
   "metadata": {
    "collapsed": false,
    "gather": {
     "logged": 1598275789986
    },
    "jupyter": {
     "outputs_hidden": false,
     "source_hidden": false
    },
    "nteract": {
     "transient": {
      "deleting": false
     }
    }
   },
   "outputs": [],
   "source": [
    "from azureml.widgets import RunDetails\n",
    "from azureml.train.sklearn import SKLearn\n",
    "from azureml.train.hyperdrive.run import PrimaryMetricGoal\n",
    "from azureml.train.hyperdrive.policy import BanditPolicy\n",
    "from azureml.train.hyperdrive.sampling import RandomParameterSampling\n",
    "from azureml.train.hyperdrive.runconfig import HyperDriveConfig\n",
    "from azureml.train.hyperdrive.parameter_expressions import choice, uniform\n",
    "from azureml.core import Environment, ScriptRunConfig\n",
    "import os\n",
    "\n",
    "# Specify parameter sampler\n",
    "ps = RandomParameterSampling(\n",
    "    {\n",
    "        '--C': uniform(0.1,1),\n",
    "        '--max_iter':choice(50,100)\n",
    "    }\n",
    ")\n",
    "\n",
    "# Specify a Policy\n",
    "policy = BanditPolicy(\n",
    "    evaluation_interval=1,\n",
    "    slack_factor=0.1\n",
    ")\n",
    "\n",
    "if \"training\" not in os.listdir():\n",
    "    os.mkdir(\"./training\")\n",
    "\n",
    "# Setup environment for your training run\n",
    "sklearn_env = Environment.from_conda_specification(name='sklearn-env', file_path='./training/conda_dependencies.yml')\n",
    "\n",
    "# Create a ScriptRunConfig Object to specify the configuration details of your training job\n",
    "src = ScriptRunConfig(\n",
    "    source_directory=\"./\",\n",
    "    script=\"train.py\",\n",
    "    compute_target=compute_target,\n",
    "    environment=sklearn_env\n",
    ")\n",
    "\n",
    "# Create a HyperDriveConfig using the src object, hyperparameter sampler, and policy.\n",
    "hyperdrive_config = HyperDriveConfig(\n",
    "    run_config=src,\n",
    "    hyperparameter_sampling=ps,\n",
    "    policy=policy,\n",
    "    primary_metric_name=\"accuracy\",\n",
    "    primary_metric_goal = PrimaryMetricGoal.MAXIMIZE,\n",
    "    max_total_runs=10,\n",
    "    max_concurrent_runs=4\n",
    ")"
   ]
  },
  {
   "cell_type": "code",
   "execution_count": 4,
   "metadata": {},
   "outputs": [
    {
     "name": "stdout",
     "output_type": "stream",
     "text": [
      "RunId: HD_fa21cef8-633f-4b31-b323-68d9c00443dd\n",
      "Web View: https://ml.azure.com/runs/HD_fa21cef8-633f-4b31-b323-68d9c00443dd?wsid=/subscriptions/d4ad7261-832d-46b2-b093-22156001df5b/resourcegroups/aml-quickstarts-274542/workspaces/quick-starts-ws-274542&tid=660b3398-b80e-49d2-bc5b-ac1dc93b5254\n",
      "\n",
      "Streaming azureml-logs/hyperdrive.txt\n",
      "=====================================\n",
      "\n",
      "[2025-03-03T00:31:30.3787050Z][GENERATOR][DEBUG]Sampled 4 jobs from search space \n",
      "[2025-03-03T00:31:30.6874681Z][SCHEDULER][INFO]Scheduling job, id='HD_fa21cef8-633f-4b31-b323-68d9c00443dd_0' \n",
      "[2025-03-03T00:31:30.7479018Z][SCHEDULER][INFO]Scheduling job, id='HD_fa21cef8-633f-4b31-b323-68d9c00443dd_1' \n",
      "[2025-03-03T00:31:30.7920820Z][SCHEDULER][INFO]Scheduling job, id='HD_fa21cef8-633f-4b31-b323-68d9c00443dd_2' \n",
      "[2025-03-03T00:31:30.7929910Z][SCHEDULER][INFO]Scheduling job, id='HD_fa21cef8-633f-4b31-b323-68d9c00443dd_3' \n",
      "[2025-03-03T00:31:31.3316117Z][SCHEDULER][INFO]Successfully scheduled a job. Id='HD_fa21cef8-633f-4b31-b323-68d9c00443dd_3' \n",
      "[2025-03-03T00:31:31.3966036Z][SCHEDULER][INFO]Successfully scheduled a job. Id='HD_fa21cef8-633f-4b31-b323-68d9c00443dd_2' \n",
      "[2025-03-03T00:31:31.3316895Z][SCHEDULER][INFO]Successfully scheduled a job. Id='HD_fa21cef8-633f-4b31-b323-68d9c00443dd_0' \n",
      "[2025-03-03T00:31:31.4317147Z][SCHEDULER][INFO]Successfully scheduled a job. Id='HD_fa21cef8-633f-4b31-b323-68d9c00443dd_1' \n",
      "[2025-03-03T00:32:32.1199959Z][GENERATOR][DEBUG]Sampled 3 jobs from search space \n",
      "[2025-03-03T00:32:32.3177794Z][SCHEDULER][INFO]Scheduling job, id='HD_fa21cef8-633f-4b31-b323-68d9c00443dd_4' \n",
      "[2025-03-03T00:32:32.4308792Z][SCHEDULER][INFO]Scheduling job, id='HD_fa21cef8-633f-4b31-b323-68d9c00443dd_6' \n",
      "[2025-03-03T00:32:32.4318119Z][SCHEDULER][INFO]Scheduling job, id='HD_fa21cef8-633f-4b31-b323-68d9c00443dd_5' \n",
      "[2025-03-03T00:32:32.7369598Z][SCHEDULER][INFO]Successfully scheduled a job. Id='HD_fa21cef8-633f-4b31-b323-68d9c00443dd_5' \n",
      "[2025-03-03T00:32:32.7850935Z][SCHEDULER][INFO]Successfully scheduled a job. Id='HD_fa21cef8-633f-4b31-b323-68d9c00443dd_4' \n",
      "[2025-03-03T00:32:32.8616516Z][SCHEDULER][INFO]Successfully scheduled a job. Id='HD_fa21cef8-633f-4b31-b323-68d9c00443dd_6' \n",
      "[2025-03-03T00:33:03.7844631Z][GENERATOR][DEBUG]Sampled 1 jobs from search space \n",
      "[2025-03-03T00:33:04.2107119Z][SCHEDULER][INFO]Scheduling job, id='HD_fa21cef8-633f-4b31-b323-68d9c00443dd_7' \n",
      "[2025-03-03T00:33:04.5082902Z][SCHEDULER][INFO]Successfully scheduled a job. Id='HD_fa21cef8-633f-4b31-b323-68d9c00443dd_7' \n",
      "[2025-03-03T00:33:35.6217389Z][GENERATOR][DEBUG]Sampled 2 jobs from search space \n",
      "[2025-03-03T00:33:35.7634612Z][SCHEDULER][INFO]Scheduling job, id='HD_fa21cef8-633f-4b31-b323-68d9c00443dd_8' \n",
      "[2025-03-03T00:33:35.8894630Z][SCHEDULER][INFO]Scheduling job, id='HD_fa21cef8-633f-4b31-b323-68d9c00443dd_9' \n",
      "[2025-03-03T00:33:36.1293075Z][SCHEDULER][INFO]Successfully scheduled a job. Id='HD_fa21cef8-633f-4b31-b323-68d9c00443dd_8' \n",
      "[2025-03-03T00:33:36.2801594Z][SCHEDULER][INFO]Successfully scheduled a job. Id='HD_fa21cef8-633f-4b31-b323-68d9c00443dd_9' \n",
      "[2025-03-03T00:34:06.0167174Z][GENERATOR][DEBUG]Setting all jobs generated as True, reason : Max number of jobs reached \n",
      "[2025-03-03T00:35:02.3736136Z][CONTROLLER][INFO]Changing Run Status from Running to Completed \n",
      "\n",
      "Execution Summary\n",
      "=================\n",
      "RunId: HD_fa21cef8-633f-4b31-b323-68d9c00443dd\n",
      "Web View: https://ml.azure.com/runs/HD_fa21cef8-633f-4b31-b323-68d9c00443dd?wsid=/subscriptions/d4ad7261-832d-46b2-b093-22156001df5b/resourcegroups/aml-quickstarts-274542/workspaces/quick-starts-ws-274542&tid=660b3398-b80e-49d2-bc5b-ac1dc93b5254\n",
      "\n"
     ]
    }
   ],
   "source": [
    "# Submit your hyperdrive run to the experiment and show run details with the widget.\n",
    "hdr = exp.submit(hyperdrive_config)  # Submete o job para execução\n",
    "hdr.wait_for_completion(show_output=True)  # Espera a conclusão do job\n",
    "assert(hdr.get_status() == \"Completed\")"
   ]
  },
  {
   "cell_type": "code",
   "execution_count": 5,
   "metadata": {
    "collapsed": false,
    "gather": {
     "logged": 1598276310862
    },
    "jupyter": {
     "outputs_hidden": false,
     "source_hidden": false
    },
    "nteract": {
     "transient": {
      "deleting": false
     }
    }
   },
   "outputs": [],
   "source": [
    "import joblib\n",
    "# Get your best run and save the model from that run.\n",
    "best_run = hdr.get_best_run_by_primary_metric()\n"
   ]
  },
  {
   "cell_type": "code",
   "execution_count": 6,
   "metadata": {},
   "outputs": [
    {
     "data": {
      "text/html": [
       "<table style=\"width:100%\"><tr><th>Experiment</th><th>Id</th><th>Type</th><th>Status</th><th>Details Page</th><th>Docs Page</th></tr><tr><td>udacity-project</td><td>HD_fa21cef8-633f-4b31-b323-68d9c00443dd_8</td><td>azureml.scriptrun</td><td>Completed</td><td><a href=\"https://ml.azure.com/runs/HD_fa21cef8-633f-4b31-b323-68d9c00443dd_8?wsid=/subscriptions/d4ad7261-832d-46b2-b093-22156001df5b/resourcegroups/aml-quickstarts-274542/workspaces/quick-starts-ws-274542&amp;tid=660b3398-b80e-49d2-bc5b-ac1dc93b5254\" target=\"_blank\" rel=\"noopener\">Link to Azure Machine Learning studio</a></td><td><a href=\"https://docs.microsoft.com/en-us/python/api/azureml-core/azureml.core.run.Run?view=azure-ml-py\" target=\"_blank\" rel=\"noopener\">Link to Documentation</a></td></tr></table>"
      ],
      "text/plain": [
       "Run(Experiment: udacity-project,\n",
       "Id: HD_fa21cef8-633f-4b31-b323-68d9c00443dd_8,\n",
       "Type: azureml.scriptrun,\n",
       "Status: Completed)"
      ]
     },
     "execution_count": 6,
     "metadata": {},
     "output_type": "execute_result"
    }
   ],
   "source": [
    "best_run"
   ]
  },
  {
   "cell_type": "code",
   "execution_count": 7,
   "metadata": {},
   "outputs": [],
   "source": [
    "from azureml.data.dataset_factory import TabularDatasetFactory\n",
    "\n",
    "# Create TabularDataset using TabularDatasetFactory\n",
    "# Data is available at: \n",
    "# \"https://automlsamplenotebookdata.blob.core.windows.net/automl-sample-notebook-data/bankmarketing_train.csv\"\n",
    "url = \"https://automlsamplenotebookdata.blob.core.windows.net/automl-sample-notebook-data/bankmarketing_train.csv\"  # Substitua pela URL real\n",
    "ds = TabularDatasetFactory.from_delimited_files(path=url)"
   ]
  },
  {
   "cell_type": "code",
   "execution_count": 8,
   "metadata": {
    "collapsed": false,
    "gather": {
     "logged": 1598275726969
    },
    "jupyter": {
     "outputs_hidden": false,
     "source_hidden": false
    },
    "nteract": {
     "transient": {
      "deleting": false
     }
    }
   },
   "outputs": [
    {
     "name": "stdout",
     "output_type": "stream",
     "text": [
      "{'infer_column_types': 'False', 'activity': 'to_pandas_dataframe'}\n",
      "{'infer_column_types': 'False', 'activity': 'to_pandas_dataframe', 'activityApp': 'TabularDataset'}\n"
     ]
    }
   ],
   "source": [
    "from train import clean_data\n",
    "\n",
    "# Use the clean_data function to clean your data.\n",
    "x, y = clean_data(ds)"
   ]
  },
  {
   "cell_type": "code",
   "execution_count": 9,
   "metadata": {
    "collapsed": false,
    "gather": {
     "logged": 1598275665403
    },
    "jupyter": {
     "outputs_hidden": false,
     "source_hidden": false
    },
    "nteract": {
     "transient": {
      "deleting": false
     }
    }
   },
   "outputs": [],
   "source": [
    "from azureml.train.automl import AutoMLConfig\n",
    "\n",
    "# Set parameters for AutoMLConfig\n",
    "# NOTE: DO NOT CHANGE THE experiment_timeout_minutes PARAMETER OR YOUR INSTANCE WILL TIME OUT.\n",
    "# If you wish to run the experiment longer, you will need to run this notebook in your own\n",
    "# Azure tenant, which will incur personal costs.\n",
    "automl_config = AutoMLConfig(\n",
    "    experiment_timeout_minutes=30,\n",
    "    task='classification',\n",
    "    primary_metric='accuracy',\n",
    "    training_data=ds,\n",
    "    label_column_name='y',\n",
    "    n_cross_validations=2,\n",
    "    compute_target= compute_target)"
   ]
  },
  {
   "cell_type": "code",
   "execution_count": null,
   "metadata": {
    "collapsed": false,
    "jupyter": {
     "outputs_hidden": false,
     "source_hidden": false
    },
    "nteract": {
     "transient": {
      "deleting": false
     }
    }
   },
   "outputs": [
    {
     "name": "stdout",
     "output_type": "stream",
     "text": [
      "Submitting remote run.\n",
      "No run_configuration provided, running on optmizing-ml with default configuration\n",
      "Running on remote compute: optmizing-ml\n"
     ]
    },
    {
     "data": {
      "text/html": [
       "<table style=\"width:100%\"><tr><th>Experiment</th><th>Id</th><th>Type</th><th>Status</th><th>Details Page</th><th>Docs Page</th></tr><tr><td>udacity-project</td><td>AutoML_c76ea55d-2cda-4006-a87d-01fcf97ae184</td><td>automl</td><td>NotStarted</td><td><a href=\"https://ml.azure.com/runs/AutoML_c76ea55d-2cda-4006-a87d-01fcf97ae184?wsid=/subscriptions/d4ad7261-832d-46b2-b093-22156001df5b/resourcegroups/aml-quickstarts-274542/workspaces/quick-starts-ws-274542&amp;tid=660b3398-b80e-49d2-bc5b-ac1dc93b5254\" target=\"_blank\" rel=\"noopener\">Link to Azure Machine Learning studio</a></td><td><a href=\"https://docs.microsoft.com/en-us/python/api/overview/azure/ml/intro?view=azure-ml-py\" target=\"_blank\" rel=\"noopener\">Link to Documentation</a></td></tr></table>"
      ]
     },
     "metadata": {},
     "output_type": "display_data"
    },
    {
     "name": "stdout",
     "output_type": "stream",
     "text": [
      "\n",
      "Current status: FeaturesGeneration. Generating features for the dataset.\n",
      "Current status: DatasetFeaturization. Beginning to fit featurizers and featurize the dataset.\n",
      "Current status: DatasetBalancing. Performing class balancing sweeping\n",
      "Current status: DatasetCrossValidationSplit. Generating individually featurized CV splits.\n",
      "Current status: ModelSelection. Beginning model selection.\n",
      "\n",
      "********************************************************************************************\n",
      "DATA GUARDRAILS: \n",
      "\n",
      "TYPE:         Class balancing detection\n",
      "STATUS:       ALERTED\n",
      "DESCRIPTION:  To decrease model bias, please cancel the current run and fix balancing problem.\n",
      "              Learn more about imbalanced data: https://aka.ms/AutomatedMLImbalancedData\n",
      "DETAILS:      Imbalanced data can lead to a falsely perceived positive effect of a model's accuracy because the input data has bias towards one class.\n",
      "+------------------------------+--------------------------------+--------------------------------------+\n",
      "|Size of the smallest class    |Name/Label of the smallest class|Number of samples in the training data|\n",
      "+==============================+================================+======================================+\n",
      "|3692                          |yes                             |32950                                 |\n",
      "+------------------------------+--------------------------------+--------------------------------------+\n",
      "\n",
      "********************************************************************************************\n",
      "\n",
      "TYPE:         Missing feature values imputation\n",
      "STATUS:       PASSED\n",
      "DESCRIPTION:  No feature missing values were detected in the training data.\n",
      "              Learn more about missing value imputation: https://aka.ms/AutomatedMLFeaturization\n",
      "\n",
      "********************************************************************************************\n",
      "\n",
      "TYPE:         High cardinality feature detection\n",
      "STATUS:       PASSED\n",
      "DESCRIPTION:  Your inputs were analyzed, and no high cardinality features were detected.\n",
      "              Learn more about high cardinality feature handling: https://aka.ms/AutomatedMLFeaturization\n",
      "\n",
      "********************************************************************************************\n",
      "\n",
      "********************************************************************************************\n",
      "ITER: The iteration being evaluated.\n",
      "PIPELINE: A summary description of the pipeline being evaluated.\n",
      "DURATION: Time taken for the current iteration.\n",
      "METRIC: The result of computing score on the fitted pipeline.\n",
      "BEST: The best observed score thus far.\n",
      "********************************************************************************************\n",
      "\n",
      " ITER   PIPELINE                                       DURATION            METRIC      BEST\n",
      "    0   MaxAbsScaler LightGBM                          0:00:11             0.9125    0.9125\n",
      "    1   MaxAbsScaler XGBoostClassifier                 0:00:19             0.9110    0.9125\n",
      "    2   MaxAbsScaler ExtremeRandomTrees                0:00:14             0.7347    0.9125\n",
      "    3   SparseNormalizer XGBoostClassifier             0:00:13             0.9124    0.9125\n",
      "    4   MaxAbsScaler LightGBM                          0:00:10             0.9127    0.9127\n",
      "    5   MaxAbsScaler LightGBM                          0:00:09             0.8883    0.9127\n",
      "    6   StandardScalerWrapper XGBoostClassifier        0:00:11             0.9063    0.9127\n",
      "    7   MaxAbsScaler LogisticRegression                0:00:10             0.9084    0.9127\n",
      "    8   StandardScalerWrapper ExtremeRandomTrees       0:00:15             0.8880    0.9127\n",
      "    9   StandardScalerWrapper XGBoostClassifier        0:00:11             0.9121    0.9127\n",
      "   10   SparseNormalizer LightGBM                      0:00:11             0.9044    0.9127\n",
      "   11   StandardScalerWrapper XGBoostClassifier        0:00:10             0.9120    0.9127\n",
      "   12   MaxAbsScaler LogisticRegression                0:00:11             0.9089    0.9127\n",
      "   13   MaxAbsScaler SGD                               0:00:09             0.8710    0.9127\n",
      "   14   StandardScalerWrapper XGBoostClassifier        0:00:11             0.9128    0.9128\n",
      "   15   SparseNormalizer RandomForest                  0:00:22             0.8169    0.9128\n",
      "   16   StandardScalerWrapper LogisticRegression       0:00:11             0.9086    0.9128\n",
      "   17   StandardScalerWrapper RandomForest             0:00:13             0.9012    0.9128\n",
      "   18   StandardScalerWrapper XGBoostClassifier        0:00:12             0.9129    0.9129\n",
      "   19   TruncatedSVDWrapper RandomForest               0:01:40             0.8235    0.9129\n",
      "   20   TruncatedSVDWrapper RandomForest               0:02:50             0.8332    0.9129\n",
      "   21   StandardScalerWrapper XGBoostClassifier        0:00:35             0.9127    0.9129\n",
      "   22   StandardScalerWrapper LightGBM                 0:00:38             0.9133    0.9133\n",
      "   23   MaxAbsScaler LightGBM                          0:00:32             0.8880    0.9133\n",
      "   24   StandardScalerWrapper XGBoostClassifier        0:00:53             0.9137    0.9137\n",
      "   25   StandardScalerWrapper XGBoostClassifier        0:00:30             0.8880    0.9137\n",
      "   26   MaxAbsScaler LightGBM                          0:00:33             0.9099    0.9137\n",
      "   27   StandardScalerWrapper XGBoostClassifier        0:00:51             0.9095    0.9137\n"
     ]
    }
   ],
   "source": [
    "# Submit your automl run\n",
    "\n",
    "### YOUR CODE HERE ###\n",
    "remote_run = exp.submit(automl_config, show_output =True)\n",
    "remote_run.wait_for_completion()"
   ]
  },
  {
   "cell_type": "code",
   "execution_count": null,
   "metadata": {},
   "outputs": [],
   "source": [
    "# Retrieve and save your best automl model.\n",
    "\n",
    "### YOUR CODE HERE ###\n",
    "best_run, fitted_model = remote_run.get_output()"
   ]
  }
 ],
 "metadata": {
  "kernel_info": {
   "name": "python3-azureml"
  },
  "kernelspec": {
   "display_name": "Python 3.8 - AzureML",
   "language": "python",
   "name": "python38-azureml"
  },
  "language_info": {
   "codemirror_mode": {
    "name": "ipython",
    "version": 3
   },
   "file_extension": ".py",
   "mimetype": "text/x-python",
   "name": "python",
   "nbconvert_exporter": "python",
   "pygments_lexer": "ipython3",
   "version": "3.10.11"
  },
  "nteract": {
   "version": "nteract-front-end@1.0.0"
  }
 },
 "nbformat": 4,
 "nbformat_minor": 4
}
