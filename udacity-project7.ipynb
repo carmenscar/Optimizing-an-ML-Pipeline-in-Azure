{
 "cells": [
  {
   "cell_type": "code",
   "execution_count": 1,
   "metadata": {
    "gather": {
     "logged": 1598275788035
    }
   },
   "outputs": [
    {
     "name": "stdout",
     "output_type": "stream",
     "text": [
      "Workspace name: quick-starts-ws-274781\n",
      "Azure region: southcentralus\n",
      "Subscription id: aa7cf8e8-d23f-4bce-a7b9-1f0b4e0ac8ee\n",
      "Resource group: aml-quickstarts-274781\n"
     ]
    }
   ],
   "source": [
    "from azureml.core import Workspace, Experiment\n",
    "\n",
    "ws = Workspace.from_config()\n",
    "exp = Experiment(workspace=ws, name=\"udacity-project\")\n",
    "\n",
    "print('Workspace name: ' + ws.name, \n",
    "      'Azure region: ' + ws.location, \n",
    "      'Subscription id: ' + ws.subscription_id, \n",
    "      'Resource group: ' + ws.resource_group, sep = '\\n')\n",
    "\n",
    "run = exp.start_logging()"
   ]
  },
  {
   "cell_type": "code",
   "execution_count": 2,
   "metadata": {
    "collapsed": false,
    "gather": {
     "logged": 1598275788675
    },
    "jupyter": {
     "outputs_hidden": false,
     "source_hidden": false
    },
    "nteract": {
     "transient": {
      "deleting": false
     }
    }
   },
   "outputs": [],
   "source": [
    "from azureml.core.compute import ComputeTarget, AmlCompute\n",
    "\n",
    "cluster_name = \"optmizing-ml\"\n",
    "# TODO: Create compute cluster\n",
    "# Use vm_size = \"Standard_D2_V2\" in your provisioning configuration.\n",
    "# max_nodes should be no greater than 4.\n",
    "### YOUR CODE HERE ###\n",
    "compute_config = AmlCompute.provisioning_configuration(\n",
    "    vm_size=\"Standard_D2_V2\",\n",
    "    max_nodes=4\n",
    ")\n",
    "\n",
    "compute_target = ComputeTarget(workspace=ws,name= cluster_name)"
   ]
  },
  {
   "cell_type": "code",
   "execution_count": 3,
   "metadata": {
    "collapsed": false,
    "gather": {
     "logged": 1598275789986
    },
    "jupyter": {
     "outputs_hidden": false,
     "source_hidden": false
    },
    "nteract": {
     "transient": {
      "deleting": false
     }
    }
   },
   "outputs": [],
   "source": [
    "from azureml.widgets import RunDetails\n",
    "from azureml.train.sklearn import SKLearn\n",
    "from azureml.train.hyperdrive.run import PrimaryMetricGoal\n",
    "from azureml.train.hyperdrive.policy import BanditPolicy\n",
    "from azureml.train.hyperdrive.sampling import RandomParameterSampling\n",
    "from azureml.train.hyperdrive.runconfig import HyperDriveConfig\n",
    "from azureml.train.hyperdrive.parameter_expressions import choice, uniform\n",
    "from azureml.core import Environment, ScriptRunConfig\n",
    "import os\n",
    "\n",
    "# Specify parameter sampler\n",
    "ps = RandomParameterSampling(\n",
    "    {\n",
    "        '--C': uniform(0.1,1),\n",
    "        '--max_iter':choice(50,100)\n",
    "    }\n",
    ")\n",
    "\n",
    "# Specify a Policy\n",
    "policy = BanditPolicy(\n",
    "    evaluation_interval=1,\n",
    "    slack_factor=0.1\n",
    ")\n",
    "\n",
    "if \"training\" not in os.listdir():\n",
    "    os.mkdir(\"./training\")\n",
    "\n",
    "# Setup environment for your training run\n",
    "sklearn_env = Environment.from_conda_specification(name='sklearn-env', file_path='./training/conda_dependencies.yml')\n",
    "\n",
    "# Create a ScriptRunConfig Object to specify the configuration details of your training job\n",
    "src = ScriptRunConfig(\n",
    "    source_directory=\"./\",\n",
    "    script=\"train.py\",\n",
    "    compute_target=compute_target,\n",
    "    environment=sklearn_env\n",
    ")\n",
    "\n",
    "# Create a HyperDriveConfig using the src object, hyperparameter sampler, and policy.\n",
    "hyperdrive_config = HyperDriveConfig(\n",
    "    run_config=src,\n",
    "    hyperparameter_sampling=ps,\n",
    "    policy=policy,\n",
    "    primary_metric_name=\"accuracy\",\n",
    "    primary_metric_goal = PrimaryMetricGoal.MAXIMIZE,\n",
    "    max_total_runs=10,\n",
    "    max_concurrent_runs=4\n",
    ")"
   ]
  },
  {
   "cell_type": "code",
   "execution_count": 4,
   "metadata": {},
   "outputs": [
    {
     "name": "stdout",
     "output_type": "stream",
     "text": [
      "RunId: HD_c8bec809-9fd0-4eb3-8d55-9d93d4ad2c6a\n",
      "Web View: https://ml.azure.com/runs/HD_c8bec809-9fd0-4eb3-8d55-9d93d4ad2c6a?wsid=/subscriptions/aa7cf8e8-d23f-4bce-a7b9-1f0b4e0ac8ee/resourcegroups/aml-quickstarts-274781/workspaces/quick-starts-ws-274781&tid=660b3398-b80e-49d2-bc5b-ac1dc93b5254\n",
      "\n",
      "Streaming azureml-logs/hyperdrive.txt\n",
      "=====================================\n",
      "\n",
      "[2025-03-04T20:23:57.2518845Z][GENERATOR][DEBUG]Sampled 4 jobs from search space \n",
      "[2025-03-04T20:23:57.4444436Z][SCHEDULER][INFO]Scheduling job, id='HD_c8bec809-9fd0-4eb3-8d55-9d93d4ad2c6a_0' \n",
      "[2025-03-04T20:23:57.5852591Z][SCHEDULER][INFO]Scheduling job, id='HD_c8bec809-9fd0-4eb3-8d55-9d93d4ad2c6a_3' \n",
      "[2025-03-04T20:23:57.5861311Z][SCHEDULER][INFO]Scheduling job, id='HD_c8bec809-9fd0-4eb3-8d55-9d93d4ad2c6a_2' \n",
      "[2025-03-04T20:23:57.4730377Z][SCHEDULER][INFO]Scheduling job, id='HD_c8bec809-9fd0-4eb3-8d55-9d93d4ad2c6a_1' \n",
      "[2025-03-04T20:23:57.9705455Z][SCHEDULER][INFO]Successfully scheduled a job. Id='HD_c8bec809-9fd0-4eb3-8d55-9d93d4ad2c6a_0' \n",
      "[2025-03-04T20:23:58.0010986Z][SCHEDULER][INFO]Successfully scheduled a job. Id='HD_c8bec809-9fd0-4eb3-8d55-9d93d4ad2c6a_3' \n",
      "[2025-03-04T20:23:58.0558981Z][SCHEDULER][INFO]Successfully scheduled a job. Id='HD_c8bec809-9fd0-4eb3-8d55-9d93d4ad2c6a_2' \n",
      "[2025-03-04T20:23:58.0577857Z][SCHEDULER][INFO]Successfully scheduled a job. Id='HD_c8bec809-9fd0-4eb3-8d55-9d93d4ad2c6a_1' \n",
      "[2025-03-04T20:24:59.2079456Z][GENERATOR][DEBUG]Sampled 1 jobs from search space \n",
      "[2025-03-04T20:24:59.4520921Z][SCHEDULER][INFO]Scheduling job, id='HD_c8bec809-9fd0-4eb3-8d55-9d93d4ad2c6a_4' \n",
      "[2025-03-04T20:25:00.2814250Z][SCHEDULER][INFO]Successfully scheduled a job. Id='HD_c8bec809-9fd0-4eb3-8d55-9d93d4ad2c6a_4' \n",
      "[2025-03-04T20:25:30.8882722Z][GENERATOR][DEBUG]Sampled 2 jobs from search space \n",
      "[2025-03-04T20:25:31.1662738Z][SCHEDULER][INFO]Scheduling job, id='HD_c8bec809-9fd0-4eb3-8d55-9d93d4ad2c6a_6' \n",
      "[2025-03-04T20:25:31.1099874Z][SCHEDULER][INFO]Scheduling job, id='HD_c8bec809-9fd0-4eb3-8d55-9d93d4ad2c6a_5' \n",
      "[2025-03-04T20:25:31.6698116Z][SCHEDULER][INFO]Successfully scheduled a job. Id='HD_c8bec809-9fd0-4eb3-8d55-9d93d4ad2c6a_5' \n",
      "[2025-03-04T20:25:31.6870457Z][SCHEDULER][INFO]Successfully scheduled a job. Id='HD_c8bec809-9fd0-4eb3-8d55-9d93d4ad2c6a_6' \n",
      "[2025-03-04T20:26:02.6416702Z][GENERATOR][DEBUG]Sampled 1 jobs from search space \n",
      "[2025-03-04T20:26:02.8923923Z][SCHEDULER][INFO]Scheduling job, id='HD_c8bec809-9fd0-4eb3-8d55-9d93d4ad2c6a_7' \n",
      "[2025-03-04T20:26:03.1654125Z][SCHEDULER][INFO]Successfully scheduled a job. Id='HD_c8bec809-9fd0-4eb3-8d55-9d93d4ad2c6a_7' \n",
      "[2025-03-04T20:27:04.4248636Z][GENERATOR][DEBUG]Sampled 1 jobs from search space \n",
      "[2025-03-04T20:27:04.5878812Z][SCHEDULER][INFO]Scheduling job, id='HD_c8bec809-9fd0-4eb3-8d55-9d93d4ad2c6a_8' \n",
      "[2025-03-04T20:27:04.8865365Z][SCHEDULER][INFO]Successfully scheduled a job. Id='HD_c8bec809-9fd0-4eb3-8d55-9d93d4ad2c6a_8' \n",
      "[2025-03-04T20:27:35.9195486Z][GENERATOR][DEBUG]Sampled 1 jobs from search space \n",
      "[2025-03-04T20:27:36.0654500Z][SCHEDULER][INFO]Scheduling job, id='HD_c8bec809-9fd0-4eb3-8d55-9d93d4ad2c6a_9' \n",
      "[2025-03-04T20:27:36.5523268Z][SCHEDULER][INFO]Successfully scheduled a job. Id='HD_c8bec809-9fd0-4eb3-8d55-9d93d4ad2c6a_9' \n",
      "[2025-03-04T20:28:06.2152945Z][GENERATOR][DEBUG]Setting all jobs generated as True, reason : Max number of jobs reached \n",
      "[2025-03-04T20:29:59.6329927Z][CONTROLLER][INFO]Changing Run Status from Running to Completed \n",
      "\n",
      "Execution Summary\n",
      "=================\n",
      "RunId: HD_c8bec809-9fd0-4eb3-8d55-9d93d4ad2c6a\n",
      "Web View: https://ml.azure.com/runs/HD_c8bec809-9fd0-4eb3-8d55-9d93d4ad2c6a?wsid=/subscriptions/aa7cf8e8-d23f-4bce-a7b9-1f0b4e0ac8ee/resourcegroups/aml-quickstarts-274781/workspaces/quick-starts-ws-274781&tid=660b3398-b80e-49d2-bc5b-ac1dc93b5254\n",
      "\n"
     ]
    }
   ],
   "source": [
    "# Submit your hyperdrive run to the experiment and show run details with the widget.\n",
    "hdr = exp.submit(hyperdrive_config)  # Submete o job para execução\n",
    "hdr.wait_for_completion(show_output=True)  # Espera a conclusão do job\n",
    "assert(hdr.get_status() == \"Completed\")"
   ]
  },
  {
   "cell_type": "code",
   "execution_count": 5,
   "metadata": {
    "collapsed": false,
    "gather": {
     "logged": 1598276310862
    },
    "jupyter": {
     "outputs_hidden": false,
     "source_hidden": false
    },
    "nteract": {
     "transient": {
      "deleting": false
     }
    }
   },
   "outputs": [],
   "source": [
    "import joblib\n",
    "# Get your best run and save the model from that run.\n",
    "best_run = hdr.get_best_run_by_primary_metric()\n"
   ]
  },
  {
   "cell_type": "code",
   "execution_count": 6,
   "metadata": {},
   "outputs": [
    {
     "data": {
      "text/html": [
       "<table style=\"width:100%\"><tr><th>Experiment</th><th>Id</th><th>Type</th><th>Status</th><th>Details Page</th><th>Docs Page</th></tr><tr><td>udacity-project</td><td>HD_c8bec809-9fd0-4eb3-8d55-9d93d4ad2c6a_1</td><td>azureml.scriptrun</td><td>Completed</td><td><a href=\"https://ml.azure.com/runs/HD_c8bec809-9fd0-4eb3-8d55-9d93d4ad2c6a_1?wsid=/subscriptions/aa7cf8e8-d23f-4bce-a7b9-1f0b4e0ac8ee/resourcegroups/aml-quickstarts-274781/workspaces/quick-starts-ws-274781&amp;tid=660b3398-b80e-49d2-bc5b-ac1dc93b5254\" target=\"_blank\" rel=\"noopener\">Link to Azure Machine Learning studio</a></td><td><a href=\"https://docs.microsoft.com/en-us/python/api/azureml-core/azureml.core.run.Run?view=azure-ml-py\" target=\"_blank\" rel=\"noopener\">Link to Documentation</a></td></tr></table>"
      ],
      "text/plain": [
       "Run(Experiment: udacity-project,\n",
       "Id: HD_c8bec809-9fd0-4eb3-8d55-9d93d4ad2c6a_1,\n",
       "Type: azureml.scriptrun,\n",
       "Status: Completed)"
      ]
     },
     "execution_count": 6,
     "metadata": {},
     "output_type": "execute_result"
    }
   ],
   "source": [
    "best_run"
   ]
  },
  {
   "cell_type": "code",
   "execution_count": 7,
   "metadata": {},
   "outputs": [],
   "source": [
    "from azureml.data.dataset_factory import TabularDatasetFactory\n",
    "\n",
    "# Create TabularDataset using TabularDatasetFactory\n",
    "# Data is available at: \n",
    "# \"https://automlsamplenotebookdata.blob.core.windows.net/automl-sample-notebook-data/bankmarketing_train.csv\"\n",
    "url = \"https://automlsamplenotebookdata.blob.core.windows.net/automl-sample-notebook-data/bankmarketing_train.csv\"  # Substitua pela URL real\n",
    "ds = TabularDatasetFactory.from_delimited_files(path=url)"
   ]
  },
  {
   "cell_type": "code",
   "execution_count": 35,
   "metadata": {},
   "outputs": [
    {
     "name": "stdout",
     "output_type": "stream",
     "text": [
      "{'infer_column_types': 'False', 'activity': 'to_pandas_dataframe'}\n",
      "{'infer_column_types': 'False', 'activity': 'to_pandas_dataframe', 'activityApp': 'TabularDataset'}\n"
     ]
    }
   ],
   "source": [
    "from train import clean_data\n",
    "from azureml.core import Dataset\n",
    "import pandas as pd\n",
    "\n",
    "# Use the clean_data function to clean your data.\n",
    "x, y = clean_data(ds)\n",
    "cleaned_data = pd.concat([x,y],axis=1)\n",
    "cleaned_data.columns = cleaned_data.columns.str.replace('.','_')"
   ]
  },
  {
   "cell_type": "code",
   "execution_count": 38,
   "metadata": {},
   "outputs": [
    {
     "name": "stdout",
     "output_type": "stream",
     "text": [
      "Validating arguments.\n",
      "Arguments validated.\n",
      "Validating arguments.\n",
      "Arguments validated.\n",
      "'overwrite' is set to True. Any file already present in the target will be overwritten.\n",
      "Uploading files from '/tmp/tmpqu8284g8' to 'managed-dataset/b280ba9d-b90a-4f00-b9fb-fb415aa73b55/'\n",
      "Copying 1 files with concurrency set to 1\n",
      "Copied /tmp/tmpqu8284g8/dataframe.parquet, file 1 out of 1. Destination path: https://mlstrg274781.blob.core.windows.net/azureml-blobstore-0c2b9052-43b9-47d0-aeff-11351b958553/managed-dataset/b280ba9d-b90a-4f00-b9fb-fb415aa73b55/dataframe.parquet\n",
      "Successfully uploaded file to datastore.\n",
      "Creating and registering a new dataset.\n",
      "Files copied=1, skipped=0, failed=0\n",
      "Successfully created and registered a new dataset.\n"
     ]
    }
   ],
   "source": [
    "cleaned_ds = Dataset.Tabular.register_pandas_dataframe(\n",
    "    dataframe=cleaned_data,\n",
    "    target= ws.get_default_datastore(),\n",
    "    name='cleaned_bankmarketing_data')"
   ]
  },
  {
   "cell_type": "code",
   "execution_count": 39,
   "metadata": {},
   "outputs": [
    {
     "name": "stdout",
     "output_type": "stream",
     "text": [
      "TabularDataset\n",
      "{\n",
      "  \"definition\": \"EnginelessDataflow:\\n---\\ntype: mltable\\npaths:\\n  - pattern: \\\"azureml://subscriptions/aa7cf8e8-d23f-4bce-a7b9-1f0b4e0ac8ee/resourcegroups/aml-quickstarts-274781/workspaces/quick-starts-ws-274781/datastores/workspaceblobstore/paths/managed-dataset/b280ba9d-b90a-4f00-b9fb-fb415aa73b55/\\\"\\ntransformations:\\n  - read_parquet:\\n      path_column: Path\\n      include_path_column: false\\nmetadata:\\n  infer_column_types: \\\"False\\\"\\n\",\n",
      "  \"registration\": {\n",
      "    \"id\": \"59a4dd56-0507-46cf-97bb-6f97066f1e46\",\n",
      "    \"name\": \"cleaned_bankmarketing_data\",\n",
      "    \"version\": 3,\n",
      "    \"workspace\": \"Workspace.create(name='quick-starts-ws-274781', subscription_id='aa7cf8e8-d23f-4bce-a7b9-1f0b4e0ac8ee', resource_group='aml-quickstarts-274781')\"\n",
      "  }\n",
      "}\n"
     ]
    }
   ],
   "source": [
    "cleaned_ds = Dataset.get_by_name(ws, name='cleaned_bankmarketing_data')\n",
    "print(cleaned_ds)"
   ]
  },
  {
   "cell_type": "code",
   "execution_count": 40,
   "metadata": {
    "collapsed": false,
    "gather": {
     "logged": 1598275665403
    },
    "jupyter": {
     "outputs_hidden": false,
     "source_hidden": false
    },
    "nteract": {
     "transient": {
      "deleting": false
     }
    }
   },
   "outputs": [],
   "source": [
    "from azureml.train.automl import AutoMLConfig\n",
    "\n",
    "# Set parameters for AutoMLConfig\n",
    "# NOTE: DO NOT CHANGE THE experiment_timeout_minutes PARAMETER OR YOUR INSTANCE WILL TIME OUT.\n",
    "# If you wish to run the experiment longer, you will need to run this notebook in your own\n",
    "# Azure tenant, which will incur personal costs.\n",
    "automl_config = AutoMLConfig(\n",
    "    experiment_timeout_minutes=30,\n",
    "    task='classification',\n",
    "    primary_metric='accuracy',\n",
    "    training_data=cleaned_ds,\n",
    "    label_column_name='y',\n",
    "    n_cross_validations=2,\n",
    "    compute_target= compute_target)"
   ]
  },
  {
   "cell_type": "code",
   "execution_count": null,
   "metadata": {
    "collapsed": false,
    "jupyter": {
     "outputs_hidden": false,
     "source_hidden": false
    },
    "nteract": {
     "transient": {
      "deleting": false
     }
    }
   },
   "outputs": [
    {
     "name": "stdout",
     "output_type": "stream",
     "text": [
      "Submitting remote run.\n",
      "No run_configuration provided, running on optmizing-ml with default configuration\n",
      "Running on remote compute: optmizing-ml\n"
     ]
    },
    {
     "data": {
      "text/html": [
       "<table style=\"width:100%\"><tr><th>Experiment</th><th>Id</th><th>Type</th><th>Status</th><th>Details Page</th><th>Docs Page</th></tr><tr><td>udacity-project</td><td>AutoML_f241d7cc-95e3-4e3d-9228-c00039e920ed</td><td>automl</td><td>NotStarted</td><td><a href=\"https://ml.azure.com/runs/AutoML_f241d7cc-95e3-4e3d-9228-c00039e920ed?wsid=/subscriptions/aa7cf8e8-d23f-4bce-a7b9-1f0b4e0ac8ee/resourcegroups/aml-quickstarts-274781/workspaces/quick-starts-ws-274781&amp;tid=660b3398-b80e-49d2-bc5b-ac1dc93b5254\" target=\"_blank\" rel=\"noopener\">Link to Azure Machine Learning studio</a></td><td><a href=\"https://docs.microsoft.com/en-us/python/api/overview/azure/ml/intro?view=azure-ml-py\" target=\"_blank\" rel=\"noopener\">Link to Documentation</a></td></tr></table>"
      ]
     },
     "metadata": {},
     "output_type": "display_data"
    },
    {
     "name": "stdout",
     "output_type": "stream",
     "text": [
      "\n",
      "Current status: FeaturesGeneration. Generating features for the dataset.\n"
     ]
    }
   ],
   "source": [
    "# Submit your automl run\n",
    "\n",
    "### YOUR CODE HERE ###\n",
    "remote_run = exp.submit(automl_config, show_output =True)\n",
    "remote_run.wait_for_completion()"
   ]
  },
  {
   "cell_type": "code",
   "execution_count": null,
   "metadata": {},
   "outputs": [],
   "source": [
    "# Retrieve and save your best automl model.\n",
    "\n",
    "### YOUR CODE HERE ###\n",
    "best_run, fitted_model = remote_run.get_output()"
   ]
  }
 ],
 "metadata": {
  "kernel_info": {
   "name": "python3-azureml"
  },
  "kernelspec": {
   "display_name": "Python 3.8 - AzureML",
   "language": "python",
   "name": "python38-azureml"
  },
  "language_info": {
   "codemirror_mode": {
    "name": "ipython",
    "version": 3
   },
   "file_extension": ".py",
   "mimetype": "text/x-python",
   "name": "python",
   "nbconvert_exporter": "python",
   "pygments_lexer": "ipython3",
   "version": "3.10.11"
  },
  "nteract": {
   "version": "nteract-front-end@1.0.0"
  }
 },
 "nbformat": 4,
 "nbformat_minor": 4
}
